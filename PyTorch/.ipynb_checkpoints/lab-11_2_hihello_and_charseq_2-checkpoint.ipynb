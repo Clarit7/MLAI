{
 "cells": [
  {
   "cell_type": "markdown",
   "metadata": {},
   "source": [
    "# lab 11-2 hihello and charseq(2)"
   ]
  },
  {
   "cell_type": "code",
   "execution_count": 1,
   "metadata": {},
   "outputs": [],
   "source": [
    "import torch\n",
    "import torch.optim as optim\n",
    "import numpy as np"
   ]
  },
  {
   "cell_type": "code",
   "execution_count": 2,
   "metadata": {},
   "outputs": [
    {
     "data": {
      "text/plain": [
       "<torch._C.Generator at 0x7f2d94670b10>"
      ]
     },
     "execution_count": 2,
     "metadata": {},
     "output_type": "execute_result"
    }
   ],
   "source": [
    "torch.manual_seed(0)"
   ]
  },
  {
   "cell_type": "code",
   "execution_count": 3,
   "metadata": {},
   "outputs": [],
   "source": [
    "sample = \" if you want you\""
   ]
  },
  {
   "cell_type": "code",
   "execution_count": 4,
   "metadata": {},
   "outputs": [
    {
     "name": "stdout",
     "output_type": "stream",
     "text": [
      "{'f': 0, 'y': 1, 't': 2, 'u': 3, ' ': 4, 'a': 5, 'i': 6, 'o': 7, 'n': 8, 'w': 9}\n"
     ]
    }
   ],
   "source": [
    "char_set = list(set(sample))\n",
    "char_dic = {c: i for i, c in enumerate(char_set)}\n",
    "print(char_dic)"
   ]
  },
  {
   "cell_type": "code",
   "execution_count": 5,
   "metadata": {},
   "outputs": [],
   "source": [
    "dic_size = len(char_dic)\n",
    "hidden_size = len(char_dic)\n",
    "learning_rate = 0.1"
   ]
  },
  {
   "cell_type": "code",
   "execution_count": 6,
   "metadata": {},
   "outputs": [
    {
     "name": "stdout",
     "output_type": "stream",
     "text": [
      "[[4, 6, 0, 4, 1, 7, 3, 4, 9, 5, 8, 2, 4, 1, 7]]\n",
      "[array([[0., 0., 0., 0., 1., 0., 0., 0., 0., 0.],\n",
      "       [0., 0., 0., 0., 0., 0., 1., 0., 0., 0.],\n",
      "       [1., 0., 0., 0., 0., 0., 0., 0., 0., 0.],\n",
      "       [0., 0., 0., 0., 1., 0., 0., 0., 0., 0.],\n",
      "       [0., 1., 0., 0., 0., 0., 0., 0., 0., 0.],\n",
      "       [0., 0., 0., 0., 0., 0., 0., 1., 0., 0.],\n",
      "       [0., 0., 0., 1., 0., 0., 0., 0., 0., 0.],\n",
      "       [0., 0., 0., 0., 1., 0., 0., 0., 0., 0.],\n",
      "       [0., 0., 0., 0., 0., 0., 0., 0., 0., 1.],\n",
      "       [0., 0., 0., 0., 0., 1., 0., 0., 0., 0.],\n",
      "       [0., 0., 0., 0., 0., 0., 0., 0., 1., 0.],\n",
      "       [0., 0., 1., 0., 0., 0., 0., 0., 0., 0.],\n",
      "       [0., 0., 0., 0., 1., 0., 0., 0., 0., 0.],\n",
      "       [0., 1., 0., 0., 0., 0., 0., 0., 0., 0.],\n",
      "       [0., 0., 0., 0., 0., 0., 0., 1., 0., 0.]])]\n"
     ]
    }
   ],
   "source": [
    "sample_idx = [char_dic[c] for c in sample]\n",
    "x_data = [sample_idx[:-1]]\n",
    "x_one_hot = [np.eye(dic_size)[x] for x in x_data]  # np.eye() : identity matrix\n",
    "y_data = sample_idx[1:]\n",
    "\n",
    "print(x_data)\n",
    "print(x_one_hot)"
   ]
  },
  {
   "cell_type": "code",
   "execution_count": 7,
   "metadata": {},
   "outputs": [],
   "source": [
    "X = torch.FloatTensor(x_one_hot)\n",
    "Y = torch.LongTensor(y_data)"
   ]
  },
  {
   "cell_type": "code",
   "execution_count": 8,
   "metadata": {},
   "outputs": [],
   "source": [
    "rnn = torch.nn.RNN(dic_size, hidden_size, batch_first=True)"
   ]
  },
  {
   "cell_type": "code",
   "execution_count": 9,
   "metadata": {},
   "outputs": [],
   "source": [
    "criterion = torch.nn.CrossEntropyLoss()\n",
    "optimizer = optim.Adam(rnn.parameters(), learning_rate)"
   ]
  },
  {
   "cell_type": "code",
   "execution_count": 11,
   "metadata": {},
   "outputs": [
    {
     "name": "stdout",
     "output_type": "stream",
     "text": [
      "0 loss:  2.401597499847412 prediction:  [[5 7 5 7 8 0 7 7 6 7 8 5 7 5 0]] true Y:  [6, 0, 4, 1, 7, 3, 4, 9, 5, 8, 2, 4, 1, 7, 3] prediction str:  aoaonfooionaoaf\n",
      "1 loss:  2.0749220848083496 prediction:  [[7 7 4 1 7 1 1 7 4 1 7 4 1 7 1]] true Y:  [6, 0, 4, 1, 7, 3, 4, 9, 5, 8, 2, 4, 1, 7, 3] prediction str:  oo yoyyo yo yoy\n",
      "2 loss:  1.8522788286209106 prediction:  [[1 4 4 1 7 3 1 7 4 1 7 4 1 7 3]] true Y:  [6, 0, 4, 1, 7, 3, 4, 9, 5, 8, 2, 4, 1, 7, 3] prediction str:  y  youyo yo you\n",
      "3 loss:  1.686898112297058 prediction:  [[1 4 4 1 4 3 1 4 5 1 4 4 1 4 3]] true Y:  [6, 0, 4, 1, 7, 3, 4, 9, 5, 8, 2, 4, 1, 7, 3] prediction str:  y  y uy ay  y u\n",
      "4 loss:  1.564260482788086 prediction:  [[1 4 4 1 4 3 4 6 4 8 7 4 1 4 3]] true Y:  [6, 0, 4, 1, 7, 3, 4, 9, 5, 8, 2, 4, 1, 7, 3] prediction str:  y  y u i no y u\n",
      "5 loss:  1.4675872325897217 prediction:  [[1 4 4 1 4 3 4 9 4 8 2 4 1 4 3]] true Y:  [6, 0, 4, 1, 7, 3, 4, 9, 5, 8, 2, 4, 1, 7, 3] prediction str:  y  y u w nt y u\n",
      "6 loss:  1.3990670442581177 prediction:  [[1 4 4 1 4 3 4 9 5 8 2 4 1 4 3]] true Y:  [6, 0, 4, 1, 7, 3, 4, 9, 5, 8, 2, 4, 1, 7, 3] prediction str:  y  y u want y u\n",
      "7 loss:  1.3400315046310425 prediction:  [[1 4 4 1 4 3 4 9 5 8 2 4 1 4 3]] true Y:  [6, 0, 4, 1, 7, 3, 4, 9, 5, 8, 2, 4, 1, 7, 3] prediction str:  y  y u want y u\n",
      "8 loss:  1.2818520069122314 prediction:  [[6 4 4 1 4 3 4 9 5 8 2 4 1 4 3]] true Y:  [6, 0, 4, 1, 7, 3, 4, 9, 5, 8, 2, 4, 1, 7, 3] prediction str:  i  y u want y u\n",
      "9 loss:  1.2327924966812134 prediction:  [[6 4 4 1 4 3 4 9 5 8 2 4 1 4 3]] true Y:  [6, 0, 4, 1, 7, 3, 4, 9, 5, 8, 2, 4, 1, 7, 3] prediction str:  i  y u want y u\n",
      "10 loss:  1.1931589841842651 prediction:  [[6 4 4 1 4 3 4 9 5 8 2 4 1 4 3]] true Y:  [6, 0, 4, 1, 7, 3, 4, 9, 5, 8, 2, 4, 1, 7, 3] prediction str:  i  y u want y u\n",
      "11 loss:  1.158484935760498 prediction:  [[6 4 4 1 4 3 4 9 5 8 2 4 1 4 3]] true Y:  [6, 0, 4, 1, 7, 3, 4, 9, 5, 8, 2, 4, 1, 7, 3] prediction str:  i  y u want y u\n",
      "12 loss:  1.1272166967391968 prediction:  [[6 0 4 1 4 3 4 9 5 8 2 4 1 4 3]] true Y:  [6, 0, 4, 1, 7, 3, 4, 9, 5, 8, 2, 4, 1, 7, 3] prediction str:  if y u want y u\n",
      "13 loss:  1.0974504947662354 prediction:  [[6 0 4 1 4 3 4 9 5 8 2 4 1 4 3]] true Y:  [6, 0, 4, 1, 7, 3, 4, 9, 5, 8, 2, 4, 1, 7, 3] prediction str:  if y u want y u\n",
      "14 loss:  1.0722240209579468 prediction:  [[6 0 4 1 4 3 4 9 5 8 2 4 1 4 3]] true Y:  [6, 0, 4, 1, 7, 3, 4, 9, 5, 8, 2, 4, 1, 7, 3] prediction str:  if y u want y u\n",
      "15 loss:  1.043380618095398 prediction:  [[6 0 4 1 4 3 4 9 5 8 2 4 1 4 3]] true Y:  [6, 0, 4, 1, 7, 3, 4, 9, 5, 8, 2, 4, 1, 7, 3] prediction str:  if y u want y u\n",
      "16 loss:  1.0184203386306763 prediction:  [[6 0 4 1 4 3 4 9 5 8 2 4 1 4 3]] true Y:  [6, 0, 4, 1, 7, 3, 4, 9, 5, 8, 2, 4, 1, 7, 3] prediction str:  if y u want y u\n",
      "17 loss:  0.9909617304801941 prediction:  [[6 0 4 1 7 3 4 9 5 8 2 4 1 7 3]] true Y:  [6, 0, 4, 1, 7, 3, 4, 9, 5, 8, 2, 4, 1, 7, 3] prediction str:  if you want you\n",
      "18 loss:  0.9657289385795593 prediction:  [[6 0 4 1 7 3 4 9 5 8 2 4 1 7 3]] true Y:  [6, 0, 4, 1, 7, 3, 4, 9, 5, 8, 2, 4, 1, 7, 3] prediction str:  if you want you\n",
      "19 loss:  0.9488493204116821 prediction:  [[6 0 4 1 7 3 4 9 5 8 2 4 1 7 3]] true Y:  [6, 0, 4, 1, 7, 3, 4, 9, 5, 8, 2, 4, 1, 7, 3] prediction str:  if you want you\n",
      "20 loss:  0.9361783862113953 prediction:  [[6 0 4 1 7 3 1 9 5 8 2 4 1 7 3]] true Y:  [6, 0, 4, 1, 7, 3, 4, 9, 5, 8, 2, 4, 1, 7, 3] prediction str:  if youywant you\n",
      "21 loss:  0.9245002269744873 prediction:  [[6 0 4 1 7 3 1 9 5 8 2 4 1 7 3]] true Y:  [6, 0, 4, 1, 7, 3, 4, 9, 5, 8, 2, 4, 1, 7, 3] prediction str:  if youywant you\n",
      "22 loss:  0.9125350117683411 prediction:  [[6 0 4 1 7 3 1 9 5 8 2 4 1 7 3]] true Y:  [6, 0, 4, 1, 7, 3, 4, 9, 5, 8, 2, 4, 1, 7, 3] prediction str:  if youywant you\n",
      "23 loss:  0.9002996683120728 prediction:  [[6 0 4 1 7 3 1 9 5 8 2 4 1 7 3]] true Y:  [6, 0, 4, 1, 7, 3, 4, 9, 5, 8, 2, 4, 1, 7, 3] prediction str:  if youywant you\n",
      "24 loss:  0.8901105523109436 prediction:  [[6 0 4 1 7 3 1 9 5 8 2 4 1 7 3]] true Y:  [6, 0, 4, 1, 7, 3, 4, 9, 5, 8, 2, 4, 1, 7, 3] prediction str:  if youywant you\n",
      "25 loss:  0.8827396035194397 prediction:  [[6 0 4 1 7 3 4 9 5 8 2 4 1 7 3]] true Y:  [6, 0, 4, 1, 7, 3, 4, 9, 5, 8, 2, 4, 1, 7, 3] prediction str:  if you want you\n",
      "26 loss:  0.8739004731178284 prediction:  [[6 0 4 1 7 3 4 9 5 8 2 4 1 7 3]] true Y:  [6, 0, 4, 1, 7, 3, 4, 9, 5, 8, 2, 4, 1, 7, 3] prediction str:  if you want you\n",
      "27 loss:  0.8666962385177612 prediction:  [[6 0 4 1 7 3 4 9 5 8 2 4 1 7 3]] true Y:  [6, 0, 4, 1, 7, 3, 4, 9, 5, 8, 2, 4, 1, 7, 3] prediction str:  if you want you\n",
      "28 loss:  0.8610947728157043 prediction:  [[6 0 4 1 7 3 4 9 5 8 2 4 1 7 3]] true Y:  [6, 0, 4, 1, 7, 3, 4, 9, 5, 8, 2, 4, 1, 7, 3] prediction str:  if you want you\n",
      "29 loss:  0.8559334874153137 prediction:  [[6 0 4 1 7 3 4 9 5 8 2 4 1 7 3]] true Y:  [6, 0, 4, 1, 7, 3, 4, 9, 5, 8, 2, 4, 1, 7, 3] prediction str:  if you want you\n",
      "30 loss:  0.8509244322776794 prediction:  [[6 0 4 1 7 3 4 9 5 8 2 4 1 7 3]] true Y:  [6, 0, 4, 1, 7, 3, 4, 9, 5, 8, 2, 4, 1, 7, 3] prediction str:  if you want you\n",
      "31 loss:  0.8462352156639099 prediction:  [[6 0 4 1 7 3 4 9 5 8 2 4 1 7 3]] true Y:  [6, 0, 4, 1, 7, 3, 4, 9, 5, 8, 2, 4, 1, 7, 3] prediction str:  if you want you\n",
      "32 loss:  0.8427326679229736 prediction:  [[6 0 4 1 7 3 4 9 5 8 2 4 1 7 3]] true Y:  [6, 0, 4, 1, 7, 3, 4, 9, 5, 8, 2, 4, 1, 7, 3] prediction str:  if you want you\n",
      "33 loss:  0.8411215543746948 prediction:  [[6 0 4 1 7 3 4 9 5 8 2 4 1 7 3]] true Y:  [6, 0, 4, 1, 7, 3, 4, 9, 5, 8, 2, 4, 1, 7, 3] prediction str:  if you want you\n",
      "34 loss:  0.8382211923599243 prediction:  [[6 0 4 1 7 3 4 9 5 8 2 4 1 7 3]] true Y:  [6, 0, 4, 1, 7, 3, 4, 9, 5, 8, 2, 4, 1, 7, 3] prediction str:  if you want you\n",
      "35 loss:  0.8340248465538025 prediction:  [[6 0 4 1 7 3 4 9 5 8 2 4 1 7 3]] true Y:  [6, 0, 4, 1, 7, 3, 4, 9, 5, 8, 2, 4, 1, 7, 3] prediction str:  if you want you\n",
      "36 loss:  0.8314002156257629 prediction:  [[6 0 4 1 7 3 4 9 5 8 2 4 1 7 3]] true Y:  [6, 0, 4, 1, 7, 3, 4, 9, 5, 8, 2, 4, 1, 7, 3] prediction str:  if you want you\n",
      "37 loss:  0.8292873501777649 prediction:  [[6 0 4 1 7 3 4 9 5 8 2 4 1 7 3]] true Y:  [6, 0, 4, 1, 7, 3, 4, 9, 5, 8, 2, 4, 1, 7, 3] prediction str:  if you want you\n",
      "38 loss:  0.82737797498703 prediction:  [[6 0 4 1 7 3 4 9 5 8 2 4 1 7 3]] true Y:  [6, 0, 4, 1, 7, 3, 4, 9, 5, 8, 2, 4, 1, 7, 3] prediction str:  if you want you\n",
      "39 loss:  0.8264126181602478 prediction:  [[6 0 4 1 7 3 4 9 5 8 2 4 1 7 3]] true Y:  [6, 0, 4, 1, 7, 3, 4, 9, 5, 8, 2, 4, 1, 7, 3] prediction str:  if you want you\n",
      "40 loss:  0.8258216977119446 prediction:  [[6 0 4 1 7 3 4 9 5 8 2 4 1 7 3]] true Y:  [6, 0, 4, 1, 7, 3, 4, 9, 5, 8, 2, 4, 1, 7, 3] prediction str:  if you want you\n",
      "41 loss:  0.8247178792953491 prediction:  [[6 0 4 1 7 3 4 9 5 8 2 4 1 7 3]] true Y:  [6, 0, 4, 1, 7, 3, 4, 9, 5, 8, 2, 4, 1, 7, 3] prediction str:  if you want you\n",
      "42 loss:  0.8236759305000305 prediction:  [[6 0 4 1 7 3 4 9 5 8 2 4 1 7 3]] true Y:  [6, 0, 4, 1, 7, 3, 4, 9, 5, 8, 2, 4, 1, 7, 3] prediction str:  if you want you\n",
      "43 loss:  0.8226947784423828 prediction:  [[6 0 4 1 7 3 4 9 5 8 2 4 1 7 3]] true Y:  [6, 0, 4, 1, 7, 3, 4, 9, 5, 8, 2, 4, 1, 7, 3] prediction str:  if you want you\n",
      "44 loss:  0.8215602040290833 prediction:  [[6 0 4 1 7 3 4 9 5 8 2 4 1 7 3]] true Y:  [6, 0, 4, 1, 7, 3, 4, 9, 5, 8, 2, 4, 1, 7, 3] prediction str:  if you want you\n",
      "45 loss:  0.8204512000083923 prediction:  [[6 0 4 1 7 3 4 9 5 8 2 4 1 7 3]] true Y:  [6, 0, 4, 1, 7, 3, 4, 9, 5, 8, 2, 4, 1, 7, 3] prediction str:  if you want you\n",
      "46 loss:  0.8196602463722229 prediction:  [[6 0 4 1 7 3 4 9 5 8 2 4 1 7 3]] true Y:  [6, 0, 4, 1, 7, 3, 4, 9, 5, 8, 2, 4, 1, 7, 3] prediction str:  if you want you\n",
      "47 loss:  0.8189432621002197 prediction:  [[6 0 4 1 7 3 4 9 5 8 2 4 1 7 3]] true Y:  [6, 0, 4, 1, 7, 3, 4, 9, 5, 8, 2, 4, 1, 7, 3] prediction str:  if you want you\n",
      "48 loss:  0.8182889223098755 prediction:  [[6 0 4 1 7 3 4 9 5 8 2 4 1 7 3]] true Y:  [6, 0, 4, 1, 7, 3, 4, 9, 5, 8, 2, 4, 1, 7, 3] prediction str:  if you want you\n",
      "49 loss:  0.8178144693374634 prediction:  [[6 0 4 1 7 3 4 9 5 8 2 4 1 7 3]] true Y:  [6, 0, 4, 1, 7, 3, 4, 9, 5, 8, 2, 4, 1, 7, 3] prediction str:  if you want you\n"
     ]
    }
   ],
   "source": [
    "for i in range(50):\n",
    "    optimizer.zero_grad()\n",
    "    outputs, _status = rnn(X)\n",
    "    loss = criterion(outputs.view(-1, dic_size), Y.view(-1))\n",
    "    loss.backward()\n",
    "    optimizer.step()\n",
    "    \n",
    "    result = outputs.data.numpy().argmax(axis=2)\n",
    "    result_str = ''.join([char_set[c] for c in np.squeeze(result)])\n",
    "    print(i, \"loss: \", loss.item(), \"prediction: \", result, \"true Y: \", y_data, \"prediction str: \", result_str)"
   ]
  }
 ],
 "metadata": {
  "kernelspec": {
   "display_name": "Python 3",
   "language": "python",
   "name": "python3"
  },
  "language_info": {
   "codemirror_mode": {
    "name": "ipython",
    "version": 3
   },
   "file_extension": ".py",
   "mimetype": "text/x-python",
   "name": "python",
   "nbconvert_exporter": "python",
   "pygments_lexer": "ipython3",
   "version": "3.7.6"
  }
 },
 "nbformat": 4,
 "nbformat_minor": 4
}
