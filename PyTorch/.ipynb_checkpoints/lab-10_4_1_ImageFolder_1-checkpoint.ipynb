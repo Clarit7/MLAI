{
 "cells": [
  {
   "cell_type": "markdown",
   "metadata": {},
   "source": [
    "# 10-4-1 Image Folder (1)"
   ]
  },
  {
   "cell_type": "code",
   "execution_count": 1,
   "metadata": {},
   "outputs": [],
   "source": [
    "import torchvision\n",
    "from torchvision import transforms\n",
    "from torch.utils.data import DataLoader"
   ]
  },
  {
   "cell_type": "code",
   "execution_count": 2,
   "metadata": {},
   "outputs": [],
   "source": [
    "from matplotlib.pyplot import imshow"
   ]
  },
  {
   "cell_type": "code",
   "execution_count": 3,
   "metadata": {},
   "outputs": [
    {
     "name": "stdout",
     "output_type": "stream",
     "text": [
      "cat  fish\r\n"
     ]
    }
   ],
   "source": [
    "!ls custom_data/origin_data"
   ]
  },
  {
   "cell_type": "code",
   "execution_count": 4,
   "metadata": {},
   "outputs": [],
   "source": [
    "trans = transforms.Compose([\n",
    "    transforms.Resize((64, 64))\n",
    "])\n",
    "\n",
    "train_data = torchvision.datasets.ImageFolder(root='custom_data/origin_data', transform=trans)"
   ]
  },
  {
   "cell_type": "code",
   "execution_count": 5,
   "metadata": {},
   "outputs": [
    {
     "name": "stdout",
     "output_type": "stream",
     "text": [
      "0 <PIL.Image.Image image mode=RGB size=64x64 at 0x7F1813374190> 0\n",
      "1 <PIL.Image.Image image mode=RGB size=64x64 at 0x7F18115A1710> 0\n",
      "2 <PIL.Image.Image image mode=RGB size=64x64 at 0x7F1810CB3D90> 0\n",
      "3 <PIL.Image.Image image mode=RGB size=64x64 at 0x7F181165AA90> 0\n",
      "4 <PIL.Image.Image image mode=RGB size=64x64 at 0x7F1810CBC810> 0\n",
      "5 <PIL.Image.Image image mode=RGB size=64x64 at 0x7F1810CBCCD0> 0\n",
      "6 <PIL.Image.Image image mode=RGB size=64x64 at 0x7F1810CC76D0> 0\n",
      "7 <PIL.Image.Image image mode=RGB size=64x64 at 0x7F186F69D790> 0\n",
      "8 <PIL.Image.Image image mode=RGB size=64x64 at 0x7F1810CC74D0> 0\n",
      "9 <PIL.Image.Image image mode=RGB size=64x64 at 0x7F1810CC7710> 0\n",
      "10 <PIL.Image.Image image mode=RGB size=64x64 at 0x7F1810CC7950> 0\n",
      "11 <PIL.Image.Image image mode=RGB size=64x64 at 0x7F1810CC79D0> 0\n",
      "12 <PIL.Image.Image image mode=RGB size=64x64 at 0x7F1810CC76D0> 0\n",
      "13 <PIL.Image.Image image mode=RGB size=64x64 at 0x7F1810CC7AD0> 0\n",
      "14 <PIL.Image.Image image mode=RGB size=64x64 at 0x7F1810CC7B50> 0\n",
      "15 <PIL.Image.Image image mode=RGB size=64x64 at 0x7F1810CC7BD0> 0\n",
      "16 <PIL.Image.Image image mode=RGB size=64x64 at 0x7F1810CC7C50> 0\n",
      "17 <PIL.Image.Image image mode=RGB size=64x64 at 0x7F1810CC7CD0> 0\n",
      "18 <PIL.Image.Image image mode=RGB size=64x64 at 0x7F1810CC7D50> 0\n",
      "19 <PIL.Image.Image image mode=RGB size=64x64 at 0x7F1810CC7DD0> 0\n",
      "20 <PIL.Image.Image image mode=RGB size=64x64 at 0x7F1810CC7E50> 0\n",
      "21 <PIL.Image.Image image mode=RGB size=64x64 at 0x7F1810CC7ED0> 0\n",
      "22 <PIL.Image.Image image mode=RGB size=64x64 at 0x7F1810CC7410> 0\n",
      "23 <PIL.Image.Image image mode=RGB size=64x64 at 0x7F1810CC7650> 0\n",
      "24 <PIL.Image.Image image mode=RGB size=64x64 at 0x7F1810CC7250> 0\n",
      "25 <PIL.Image.Image image mode=RGB size=64x64 at 0x7F1810CC7F90> 0\n",
      "26 <PIL.Image.Image image mode=RGB size=64x64 at 0x7F1810CC7A50> 0\n",
      "27 <PIL.Image.Image image mode=RGB size=64x64 at 0x7F1810CC7850> 0\n",
      "28 <PIL.Image.Image image mode=RGB size=64x64 at 0x7F1810CC78D0> 0\n",
      "29 <PIL.Image.Image image mode=RGB size=64x64 at 0x7F1810CC7610> 0\n",
      "30 <PIL.Image.Image image mode=RGB size=64x64 at 0x7F1810CC7890> 0\n",
      "31 <PIL.Image.Image image mode=RGB size=64x64 at 0x7F1810CC7590> 0\n",
      "32 <PIL.Image.Image image mode=RGB size=64x64 at 0x7F1810CC7350> 0\n",
      "33 <PIL.Image.Image image mode=RGB size=64x64 at 0x7F1810CC7F10> 0\n",
      "34 <PIL.Image.Image image mode=RGB size=64x64 at 0x7F1810CC7390> 0\n",
      "35 <PIL.Image.Image image mode=RGB size=64x64 at 0x7F1810CC7F50> 0\n",
      "36 <PIL.Image.Image image mode=RGB size=64x64 at 0x7F1810CCC610> 0\n",
      "37 <PIL.Image.Image image mode=RGB size=64x64 at 0x7F1810CCC690> 0\n",
      "38 <PIL.Image.Image image mode=RGB size=64x64 at 0x7F1810CCC1D0> 0\n",
      "39 <PIL.Image.Image image mode=RGB size=64x64 at 0x7F1810CCC6D0> 0\n",
      "40 <PIL.Image.Image image mode=RGB size=64x64 at 0x7F1810CCC890> 1\n",
      "41 <PIL.Image.Image image mode=RGB size=64x64 at 0x7F1810CCC910> 1\n",
      "42 <PIL.Image.Image image mode=RGB size=64x64 at 0x7F1810CCC990> 1\n",
      "43 <PIL.Image.Image image mode=RGB size=64x64 at 0x7F1810CCCA10> 1\n",
      "44 <PIL.Image.Image image mode=RGB size=64x64 at 0x7F1810CCCA90> 1\n",
      "45 <PIL.Image.Image image mode=RGB size=64x64 at 0x7F1810CCCB10> 1\n",
      "46 <PIL.Image.Image image mode=RGB size=64x64 at 0x7F1810CCCB90> 1\n",
      "47 <PIL.Image.Image image mode=RGB size=64x64 at 0x7F1810CCCC10> 1\n",
      "48 <PIL.Image.Image image mode=RGB size=64x64 at 0x7F1810CCCC90> 1\n",
      "49 <PIL.Image.Image image mode=RGB size=64x64 at 0x7F1810CCCD10> 1\n",
      "50 <PIL.Image.Image image mode=RGB size=64x64 at 0x7F1810CCCD90> 1\n",
      "51 <PIL.Image.Image image mode=RGB size=64x64 at 0x7F1810CCCE10> 1\n",
      "52 <PIL.Image.Image image mode=RGB size=64x64 at 0x7F1810CCCE90> 1\n",
      "53 <PIL.Image.Image image mode=RGB size=64x64 at 0x7F1810CCCF10> 1\n",
      "54 <PIL.Image.Image image mode=RGB size=64x64 at 0x7F1810CCC750> 1\n",
      "55 <PIL.Image.Image image mode=RGB size=64x64 at 0x7F1810CCC510> 1\n",
      "56 <PIL.Image.Image image mode=RGB size=64x64 at 0x7F1810CB3D90> 1\n",
      "57 <PIL.Image.Image image mode=RGB size=64x64 at 0x7F18115A1110> 1\n",
      "58 <PIL.Image.Image image mode=RGB size=64x64 at 0x7F1810CBCCD0> 1\n",
      "59 <PIL.Image.Image image mode=RGB size=64x64 at 0x7F1813374190> 1\n",
      "60 <PIL.Image.Image image mode=RGB size=64x64 at 0x7F1811697390> 1\n",
      "61 <PIL.Image.Image image mode=RGB size=64x64 at 0x7F181165AA90> 1\n",
      "62 <PIL.Image.Image image mode=RGB size=64x64 at 0x7F1811C12F10> 1\n",
      "63 <PIL.Image.Image image mode=RGB size=64x64 at 0x7F1810CC7AD0> 1\n",
      "64 <PIL.Image.Image image mode=RGB size=64x64 at 0x7F1810CC7B50> 1\n",
      "65 <PIL.Image.Image image mode=RGB size=64x64 at 0x7F1810CC7710> 1\n",
      "66 <PIL.Image.Image image mode=RGB size=64x64 at 0x7F1810CC7B90> 1\n",
      "67 <PIL.Image.Image image mode=RGB size=64x64 at 0x7F1810CC7D50> 1\n",
      "68 <PIL.Image.Image image mode=RGB size=64x64 at 0x7F1810CC7B10> 1\n",
      "69 <PIL.Image.Image image mode=RGB size=64x64 at 0x7F1810CC7A10> 1\n",
      "70 <PIL.Image.Image image mode=RGB size=64x64 at 0x7F1810CC7ED0> 1\n",
      "71 <PIL.Image.Image image mode=RGB size=64x64 at 0x7F1810CC7410> 1\n",
      "72 <PIL.Image.Image image mode=RGB size=64x64 at 0x7F1810CC7650> 1\n",
      "73 <PIL.Image.Image image mode=RGB size=64x64 at 0x7F1810CC7CD0> 1\n",
      "74 <PIL.Image.Image image mode=RGB size=64x64 at 0x7F1810CC7850> 1\n",
      "75 <PIL.Image.Image image mode=RGB size=64x64 at 0x7F1810CC7610> 1\n",
      "76 <PIL.Image.Image image mode=RGB size=64x64 at 0x7F1810CC7590> 1\n",
      "77 <PIL.Image.Image image mode=RGB size=64x64 at 0x7F1810CC7390> 1\n",
      "78 <PIL.Image.Image image mode=RGB size=64x64 at 0x7F1810CC7AD0> 1\n",
      "79 <PIL.Image.Image image mode=RGB size=64x64 at 0x7F1810CC7350> 1\n",
      "80 <PIL.Image.Image image mode=RGB size=64x64 at 0x7F1810CC7810> 1\n",
      "81 <PIL.Image.Image image mode=RGB size=64x64 at 0x7F1810CC7BD0> 1\n"
     ]
    }
   ],
   "source": [
    "for num, value in enumerate(train_data):\n",
    "    data, label = value\n",
    "    print(num, data, label)\n",
    "    \n",
    "    if (label == 0):\n",
    "        data.save('custom_data/train_data/cat/%d_%d.jpg' % (num, label))\n",
    "    else:\n",
    "        data.save('custom_data/train_data/fish/%d_%d.jpg' % (num, label))"
   ]
  }
 ],
 "metadata": {
  "kernelspec": {
   "display_name": "Python 3",
   "language": "python",
   "name": "python3"
  },
  "language_info": {
   "codemirror_mode": {
    "name": "ipython",
    "version": 3
   },
   "file_extension": ".py",
   "mimetype": "text/x-python",
   "name": "python",
   "nbconvert_exporter": "python",
   "pygments_lexer": "ipython3",
   "version": "3.7.4"
  }
 },
 "nbformat": 4,
 "nbformat_minor": 4
}
