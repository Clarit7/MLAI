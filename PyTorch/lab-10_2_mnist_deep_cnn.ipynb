{
 "cells": [
  {
   "cell_type": "code",
   "execution_count": 1,
   "metadata": {},
   "outputs": [],
   "source": [
    "import torch\n",
    "import torchvision.datasets as dsets\n",
    "import torchvision.transforms as transforms\n",
    "import torch.nn.init\n",
    "import matplotlib.pyplot as plt\n",
    "import random\n",
    "from tqdm.notebook import tqdm\n",
    "\n",
    "from torch.utils.tensorboard import SummaryWriter\n",
    "\n",
    "writer = SummaryWriter()"
   ]
  },
  {
   "cell_type": "code",
   "execution_count": 2,
   "metadata": {},
   "outputs": [],
   "source": [
    "device = 'cuda' if torch.cuda.is_available() else 'cpu'"
   ]
  },
  {
   "cell_type": "code",
   "execution_count": 3,
   "metadata": {},
   "outputs": [],
   "source": [
    "learning_rate = 0.001\n",
    "training_epochs = 30\n",
    "batch_size = 2000"
   ]
  },
  {
   "cell_type": "code",
   "execution_count": 4,
   "metadata": {},
   "outputs": [],
   "source": [
    "F_MNIST_train = dsets.FashionMNIST('F_MNIST_data/',\n",
    "                                   train=True,\n",
    "                                   transform = transforms.ToTensor(),\n",
    "                                   download=True)\n",
    "F_MNIST_test = dsets.FashionMNIST('F_MNIST_data/',\n",
    "                                  train=False,\n",
    "                                  transform = transforms.ToTensor(),\n",
    "                                  download=True)"
   ]
  },
  {
   "cell_type": "code",
   "execution_count": 5,
   "metadata": {},
   "outputs": [],
   "source": [
    "data_loader = torch.utils.data.DataLoader(dataset=F_MNIST_train,\n",
    "                                          batch_size=batch_size,\n",
    "                                          shuffle=True,\n",
    "                                          drop_last=True)"
   ]
  },
  {
   "cell_type": "code",
   "execution_count": 6,
   "metadata": {},
   "outputs": [],
   "source": [
    "class CNN(torch.nn.Module):\n",
    "    def __init__(self):\n",
    "        super(CNN, self).__init__()\n",
    "        self.keep_prob = 0.6\n",
    "        # L1 ImgIn shape = (batch_size, 1, 28, 28)\n",
    "        #    Conv        = (batch_size, 32, 28, 28)\n",
    "        #    Pool        = (batch_size, 32, 14, 14)\n",
    "        self.layer1 = torch.nn.Sequential(\n",
    "            torch.nn.Conv2d(1, 32, kernel_size=3, stride=1, padding=1),\n",
    "            torch.nn.ReLU(),\n",
    "            torch.nn.MaxPool2d(kernel_size=2, stride=2))\n",
    "        # L2 ImgIn shape = (batch_size, 32, 14, 14)\n",
    "        #    Conv        = (batch_size, 64, 14, 14)\n",
    "        #    Pool        = (batch_size, 64, 7, 7)\n",
    "        self.layer2 = torch.nn.Sequential(\n",
    "            torch.nn.Conv2d(32, 64, kernel_size=3, stride=1, padding=1),\n",
    "            torch.nn.ReLU(),\n",
    "            torch.nn.MaxPool2d(kernel_size=2, stride=2))\n",
    "        # L3 ImgIn shape = (batch_size, 64, 7, 7)\n",
    "        #    Conv        = (batch_size, 128, 7, 7)\n",
    "        #    Pool        = (batch_size, 128, 4, 4)\n",
    "        self.layer3 = torch.nn.Sequential(\n",
    "            torch.nn.Conv2d(64, 128, kernel_size=3, stride=1, padding=1),\n",
    "            torch.nn.ReLU(),\n",
    "            torch.nn.MaxPool2d(kernel_size=2, stride=2, padding=1))\n",
    "\n",
    "        # L4 FC 4x4x128 inputs -> 625 outputs\n",
    "        self.fc1 = torch.nn.Linear(4 * 4 * 128, 625, bias=True)\n",
    "        torch.nn.init.xavier_uniform_(self.fc1.weight)\n",
    "        self.layer4 = torch.nn.Sequential(\n",
    "            self.fc1,\n",
    "            torch.nn.ReLU(),\n",
    "            torch.nn.Dropout(p=1 - self.keep_prob))\n",
    "        # L5 Final FC 625 inputs -> 10 outputs\n",
    "        self.fc2 = torch.nn.Linear(625, 10, bias=True)\n",
    "        torch.nn.init.xavier_uniform_(self.fc2.weight)\n",
    "\n",
    "    def forward(self, x):\n",
    "        out = self.layer1(x)\n",
    "        out = self.layer2(out)\n",
    "        out = self.layer3(out)\n",
    "        out = out.view(out.size(0), -1)   # Flatten them for FC\n",
    "        out = self.layer4(out)\n",
    "        out = self.fc2(out)\n",
    "        return out"
   ]
  },
  {
   "cell_type": "code",
   "execution_count": 7,
   "metadata": {},
   "outputs": [],
   "source": [
    "model = CNN().to(device)"
   ]
  },
  {
   "cell_type": "code",
   "execution_count": 8,
   "metadata": {},
   "outputs": [],
   "source": [
    "criterion = torch.nn.CrossEntropyLoss().to(device)\n",
    "optimizer = torch.optim.Adam(model.parameters(), lr=learning_rate)"
   ]
  },
  {
   "cell_type": "code",
   "execution_count": 9,
   "metadata": {},
   "outputs": [
    {
     "data": {
      "application/vnd.jupyter.widget-view+json": {
       "model_id": "863c063363f24363aeac6f79b016372f",
       "version_major": 2,
       "version_minor": 0
      },
      "text/plain": [
       "HBox(children=(FloatProgress(value=0.0, max=30.0), HTML(value='')))"
      ]
     },
     "metadata": {},
     "output_type": "display_data"
    },
    {
     "name": "stdout",
     "output_type": "stream",
     "text": [
      "[Epoch:    1] cost = 1.07825541\n",
      "[Epoch:    2] cost = 0.557242572\n",
      "[Epoch:    3] cost = 0.449047208\n",
      "[Epoch:    4] cost = 0.391332895\n",
      "[Epoch:    5] cost = 0.354662091\n",
      "[Epoch:    6] cost = 0.326459914\n",
      "[Epoch:    7] cost = 0.306105137\n",
      "[Epoch:    8] cost = 0.292995989\n",
      "[Epoch:    9] cost = 0.277209401\n",
      "[Epoch:   10] cost = 0.266371727\n",
      "[Epoch:   11] cost = 0.254466891\n",
      "[Epoch:   12] cost = 0.244307742\n",
      "[Epoch:   13] cost = 0.23468861\n",
      "[Epoch:   14] cost = 0.232570007\n",
      "[Epoch:   15] cost = 0.219376609\n",
      "[Epoch:   16] cost = 0.215404183\n",
      "[Epoch:   17] cost = 0.209257469\n",
      "[Epoch:   18] cost = 0.202142179\n",
      "[Epoch:   19] cost = 0.198704198\n",
      "[Epoch:   20] cost = 0.196237624\n",
      "[Epoch:   21] cost = 0.195744604\n",
      "[Epoch:   22] cost = 0.182896838\n",
      "[Epoch:   23] cost = 0.177220047\n",
      "[Epoch:   24] cost = 0.174922198\n",
      "[Epoch:   25] cost = 0.165861264\n",
      "[Epoch:   26] cost = 0.165042445\n",
      "[Epoch:   27] cost = 0.159632012\n",
      "[Epoch:   28] cost = 0.154940367\n",
      "[Epoch:   29] cost = 0.152734891\n",
      "[Epoch:   30] cost = 0.148421764\n",
      "\n",
      "Learning Finished!\n"
     ]
    }
   ],
   "source": [
    "total_batch = len(data_loader)\n",
    "model.train()  # set the model to train mode\n",
    "count = 0\n",
    "for epoch in tqdm(range(training_epochs)):\n",
    "    avg_cost = 0\n",
    "\n",
    "    for X, Y in data_loader:\n",
    "        count += 1\n",
    "        X = X.to(device)\n",
    "        Y = Y.to(device)\n",
    "\n",
    "        hypothesis = model(X)\n",
    "        cost = criterion(hypothesis, Y)\n",
    "        \n",
    "        optimizer.zero_grad()\n",
    "        cost.backward()\n",
    "        optimizer.step()\n",
    "\n",
    "        avg_cost += cost / total_batch\n",
    "        writer.add_scalar(\"Loss/train\", avg_cost, count)\n",
    "    print('[Epoch: {:>4}] cost = {:>.9}'.format(epoch + 1, avg_cost))\n",
    "\n",
    "print('Learning Finished!')"
   ]
  },
  {
   "cell_type": "code",
   "execution_count": 10,
   "metadata": {},
   "outputs": [
    {
     "name": "stdout",
     "output_type": "stream",
     "text": [
      "Accuracy: 0.8422999978065491\n"
     ]
    }
   ],
   "source": [
    "with torch.no_grad():\n",
    "    model.eval()    # set the model to evaluation mode (dropout=False)\n",
    "\n",
    "    X_test = F_MNIST_test.data.view(len(F_MNIST_test), 1, 28, 28).float().to(device)\n",
    "    Y_test = F_MNIST_test.targets.to(device)\n",
    "\n",
    "    prediction = model(X_test)\n",
    "    correct_prediction = torch.argmax(prediction, 1) == Y_test\n",
    "    accuracy = correct_prediction.float().mean()\n",
    "    print('Accuracy:', accuracy.item())"
   ]
  },
  {
   "cell_type": "code",
   "execution_count": 11,
   "metadata": {},
   "outputs": [],
   "source": [
    "def label_string(label_num):\n",
    "    if label_num == 0:\n",
    "        label_s = \"T-Shirt/Top\"\n",
    "    elif label_num == 1:\n",
    "        label_s = \"Trouser\"\n",
    "    elif label_num == 2:\n",
    "        label_s = \"Pullover\"\n",
    "    elif label_num == 3:\n",
    "        label_s = \"Dress\"\n",
    "    elif label_num == 4:\n",
    "        label_s = \"Coat\"\n",
    "    elif label_num == 5:\n",
    "        label_s = \"Sandals\"\n",
    "    elif label_num == 6:\n",
    "        label_s = \"Shirt\"\n",
    "    elif label_num == 7:\n",
    "        label_s = \"Sneaker\"\n",
    "    elif label_num == 8:\n",
    "        label_s = \"Bag\"\n",
    "    elif label_num == 9:\n",
    "        label_s = \"Ankle boots\"\n",
    "    else:\n",
    "        print(\"should not reach here\")\n",
    "        \n",
    "    return label_s"
   ]
  },
  {
   "cell_type": "code",
   "execution_count": 37,
   "metadata": {},
   "outputs": [
    {
     "name": "stdout",
     "output_type": "stream",
     "text": [
      "Prediction : Shirt\n",
      "Correct : Shirt\n"
     ]
    },
    {
     "data": {
      "image/png": "[encoded data removed]",
      "text/plain": [
       "<Figure size 432x288 with 1 Axes>"
      ]
     },
     "metadata": {
      "needs_background": "light"
     },
     "output_type": "display_data"
    }
   ],
   "source": [
    "# Single Prediction\n",
    "with torch.no_grad():\n",
    "    model.eval()\n",
    "    \n",
    "    r = random.randint(0, len(F_MNIST_test)-1)\n",
    "    \n",
    "    X_single_test = F_MNIST_test.data[r:r+1].view(1, 1, 28, 28).float().to(device)\n",
    "    Y_single_test = F_MNIST_test.targets[r:r+1]\n",
    "    \n",
    "    single_pred = torch.argmax(model(X_single_test), 1)\n",
    "    \n",
    "    print('Prediction : %s' % label_string(single_pred))\n",
    "    print('Correct : %s' % label_string(Y_single_test))\n",
    "    plt.imshow(X_single_test.cpu().view(28, 28),\n",
    "               cmap='Greys', interpolation='nearest')\n",
    "    plt.show()"
   ]
  }
 ],
 "metadata": {
  "kernelspec": {
   "display_name": "Python 3",
   "language": "python",
   "name": "python3"
  },
  "language_info": {
   "codemirror_mode": {
    "name": "ipython",
    "version": 3
   },
   "file_extension": ".py",
   "mimetype": "text/x-python",
   "name": "python",
   "nbconvert_exporter": "python",
   "pygments_lexer": "ipython3",
   "version": "3.7.4"
  }
 },
 "nbformat": 4,
 "nbformat_minor": 4
}
