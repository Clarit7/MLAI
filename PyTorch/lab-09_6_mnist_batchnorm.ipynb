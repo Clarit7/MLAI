{
 "cells": [
  {
   "cell_type": "code",
   "execution_count": 1,
   "metadata": {},
   "outputs": [],
   "source": [
    "import torch\n",
    "import torchvision.datasets as dsets\n",
    "import torchvision.transforms as transforms\n",
    "import matplotlib.pylab as plt"
   ]
  },
  {
   "cell_type": "code",
   "execution_count": 2,
   "metadata": {},
   "outputs": [],
   "source": [
    "device = 'cuda' if torch.cuda.is_available() else 'cpu'\n",
    "\n",
    "torch.manual_seed(1)\n",
    "if device == 'cuda':\n",
    "    torch.cuda.manual_seed_all(1)"
   ]
  },
  {
   "cell_type": "code",
   "execution_count": 3,
   "metadata": {},
   "outputs": [],
   "source": [
    "learning_rate = 0.01\n",
    "training_epochs = 10\n",
    "batch_size = 32"
   ]
  },
  {
   "cell_type": "code",
   "execution_count": 4,
   "metadata": {},
   "outputs": [
    {
     "ename": "SyntaxError",
     "evalue": "invalid syntax (<ipython-input-4-76985d36ede1>, line 4)",
     "output_type": "error",
     "traceback": [
      "\u001b[0;36m  File \u001b[0;32m\"<ipython-input-4-76985d36ede1>\"\u001b[0;36m, line \u001b[0;32m4\u001b[0m\n\u001b[0;31m    download=True)\u001b[0m\n\u001b[0m           ^\u001b[0m\n\u001b[0;31mSyntaxError\u001b[0m\u001b[0;31m:\u001b[0m invalid syntax\n"
     ]
    }
   ],
   "source": [
    "mnist_train = dsets.MNIST(root='MNIST_data/',\n",
    "                          train=True,\n",
    "                          transform=transforms.ToTensor(),\n",
    "                          download=True)\n",
    "mnist_test = dsets.MNIST(root='MNIST_data/',\n",
    "                         train=False,\n",
    "                         transform=transforms.ToTensor(),\n",
    "                         download=True)"
   ]
  },
  {
   "cell_type": "code",
   "execution_count": null,
   "metadata": {},
   "outputs": [],
   "source": [
    "train_loader = torch.utils.data.DataLoader(dataset=mnist_train,\n",
    "                                           batch_size=batch_size,\n",
    "                                           shuffle=True,\n",
    "                                           drop_last=True)\n",
    "test_loader = torch.utils.data.DataLoader(dataset=mnist_test,\n",
    "                                          batch_size=batch_size,\n",
    "                                          shuffle=False,\n",
    "                                          drop_last=True)"
   ]
  },
  {
   "cell_type": "markdown",
   "metadata": {},
   "source": [
    "## Batch Normalization\n",
    "<br></br>\n",
    "신경망의 각 layer에서 데이터(배치)의 분포를 정규화하는 작업\n",
    "\n",
    "데이터가 레이어를 거치는 과정에서 분포가 처음에 비해 왜곡되는 문제를 해결할 수 있다"
   ]
  },
  {
   "cell_type": "code",
   "execution_count": null,
   "metadata": {},
   "outputs": [],
   "source": [
    "linear1 = torch.nn.Linear(784, 32, bias=True)\n",
    "linear2 = torch.nn.Linear(32, 32, bias=True)\n",
    "linear3 = torch.nn.Linear(32, 10, bias=True)\n",
    "relu = torch.nn.ReLU()\n",
    "bn1 = torch.nn.BatchNorm1d(32)\n",
    "bn2 = torch.nn.BatchNorm1d(32)"
   ]
  },
  {
   "cell_type": "code",
   "execution_count": null,
   "metadata": {},
   "outputs": [],
   "source": [
    "# batch norm model\n",
    "bn_model = torch.nn.Sequential(linear1, bn1, relu,\n",
    "                               linear2, bn2, relu,\n",
    "                               linear3).to(device)\n",
    "# no batch norm model\n",
    "nn_model = torch.nn.Sequential(linear1, relu,\n",
    "                               linear2, relu,\n",
    "                               linear3).to(device)"
   ]
  },
  {
   "cell_type": "code",
   "execution_count": null,
   "metadata": {},
   "outputs": [],
   "source": [
    "# loss / batch norm optimizer / no batch norm optimizer\n",
    "criterion = torch.nn.CrossEntropyLoss().to(device)\n",
    "bn_optimizer = torch.optim.Adam(bn_model.parameters(), lr=learning_rate)\n",
    "nn_optimizer = torch.optim.Adam(bn_model.parameters(), lr=learning_rate)"
   ]
  },
  {
   "cell_type": "code",
   "execution_count": null,
   "metadata": {},
   "outputs": [],
   "source": [
    "# back propagation\n",
    "def backprop(X, Y, model, optimizer) -> None:\n",
    "    hypothesis = model(X)\n",
    "    cost = criterion(hypothesis, Y)\n",
    "    \n",
    "    optimizer.zero_grad()\n",
    "    cost.backward()\n",
    "    optimizer.step()"
   ]
  },
  {
   "cell_type": "code",
   "execution_count": null,
   "metadata": {},
   "outputs": [],
   "source": [
    "# test model and return loss, accuracy\n",
    "def test_model(model, loader, total_batch) -> float:\n",
    "    loss, acc = 0, 0\n",
    "    \n",
    "    with torch.no_grad():\n",
    "        for i, (X, Y) in enumerate(loader):\n",
    "            X = X.view(-1, 28 * 28).float().to(device)\n",
    "            Y = Y.to(device)\n",
    "            \n",
    "            prediction = model(X)\n",
    "            correct_prediction = torch.argmax(prediction, 1) == Y\n",
    "            loss += criterion(prediction, Y)\n",
    "            acc += correct_prediction.float().mean()\n",
    "        \n",
    "        loss, acc = loss / total_batch, acc / total_batch\n",
    "        return loss, acc"
   ]
  },
  {
   "cell_type": "code",
   "execution_count": null,
   "metadata": {},
   "outputs": [],
   "source": [
    "# print and save Trainset loss/acc vs Test(Valid)set loss/acc\n",
    "def print_save_result(epoch, loader, total_batch, losses, accs, t_or_v) -> None:\n",
    "    bn_loss, bn_acc = test_model(bn_model, loader, total_batch)\n",
    "    nn_loss, nn_acc = test_model(nn_model, loader, total_batch)\n",
    "    \n",
    "    losses.append([bn_loss, nn_loss])\n",
    "    accs.append([bn_acc, nn_acc])\n",
    "    print('[Epoch %d-' % (epoch + 1) + t_or_v\\\n",
    "          + '] Batchnorm Loss(Acc): bn_loss:%.5f(bn_acc:%.2f)\\n\\\n",
    "          vs No Batchnorm Loss(Acc): nn_loss:%.5f(nn_acc:%.2f)'\\\n",
    "          % (bn_loss.item(), bn_acc.item(), nn_loss.item(), nn_acc.item()))"
   ]
  },
  {
   "cell_type": "code",
   "execution_count": null,
   "metadata": {
    "scrolled": false
   },
   "outputs": [],
   "source": [
    "# save all train loss data and accuracy data\n",
    "train_losses = []\n",
    "train_accs = []\n",
    "\n",
    "valid_losses = []\n",
    "valid_accs = []\n",
    "\n",
    "train_total_batch = len(train_loader)\n",
    "test_total_batch = len(test_loader)\n",
    "for epoch in range(training_epochs):\n",
    "    bn_model.train()  # set batch norm model to train mode\n",
    "    \n",
    "    for X, Y in train_loader:\n",
    "        X = X.view(-1, 28 * 28).float().to(device)\n",
    "        Y = Y.to(device)\n",
    "        \n",
    "        # back propagation\n",
    "        backprop(X, Y, bn_model, bn_optimizer)\n",
    "        backprop(X, Y, nn_model, nn_optimizer)\n",
    "    \n",
    "    bn_model.eval()  # set batch norm model to evaluation mode\n",
    "    \n",
    "    # print and save Trainset loss/acc vs Test(Valid)set loss/acc\n",
    "    print_save_result(epoch, train_loader, train_total_batch,\n",
    "                      train_losses, train_accs, 'TRAIN')\n",
    "    print_save_result(epoch, test_loader, test_total_batch,\n",
    "                      valid_losses, valid_accs, 'VALID')\n",
    "    \n",
    "print('\\nLearning finished')"
   ]
  },
  {
   "cell_type": "code",
   "execution_count": null,
   "metadata": {},
   "outputs": [],
   "source": [
    "def plot_compare(loss_list: list, ylim=None, title=None) -> None:\n",
    "    bn = [i[0] for i in loss_list]\n",
    "    nn = [i[1] for i in loss_list]\n",
    "    \n",
    "    plt.figure(figsize=(15, 10))\n",
    "    plt.plot(bn, label='With BN')\n",
    "    plt.plot(nn, label='Without BN')\n",
    "    \n",
    "    if ylim:\n",
    "        plt.ylim(ylim)\n",
    "        \n",
    "    if title:\n",
    "        plt.title(title)\n",
    "    \n",
    "    plt.legend()    # 범례 추가\n",
    "    plt.grid('on')  # 격자선 추가\n",
    "    plt.show()"
   ]
  },
  {
   "cell_type": "code",
   "execution_count": null,
   "metadata": {},
   "outputs": [],
   "source": [
    "plot_compare(train_losses, title='Training Loss at Epoch')\n",
    "plot_compare(train_accs, [0, 1.0], title='Training Acc at Epoch')\n",
    "plot_compare(valid_losses, title='Validation Loss at Epoch')\n",
    "plot_compare(valid_accs, [0, 1.0], title='Validation Acc at Epoch')"
   ]
  }
 ],
 "metadata": {
  "kernelspec": {
   "display_name": "Python 3",
   "language": "python",
   "name": "python3"
  },
  "language_info": {
   "codemirror_mode": {
    "name": "ipython",
    "version": 3
   },
   "file_extension": ".py",
   "mimetype": "text/x-python",
   "name": "python",
   "nbconvert_exporter": "python",
   "pygments_lexer": "ipython3",
   "version": "3.7.4"
  }
 },
 "nbformat": 4,
 "nbformat_minor": 4
}
