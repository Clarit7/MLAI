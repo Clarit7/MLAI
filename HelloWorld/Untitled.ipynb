{
 "cells": [
  {
   "cell_type": "code",
   "execution_count": 5,
   "metadata": {},
   "outputs": [
    {
     "name": "stdout",
     "output_type": "stream",
     "text": [
      "1.4.0\n",
      "9033 198 394 375\n"
     ]
    }
   ],
   "source": [
    "import numpy as np\n",
    "import torch\n",
    "print(torch.version.__version__)\n",
    "acts=[\"a\", \"b\", \"c\", \"d\"]\n",
    "probs=[0.9, 0.02, 0.04, 0.04]\n",
    "\n",
    "a = 0\n",
    "b = 0\n",
    "c = 0\n",
    "d = 0\n",
    "\n",
    "for i in range(10000):\n",
    "    result = np.random.choice(acts, p=probs)\n",
    "    if result==\"a\":\n",
    "        a += 1\n",
    "    elif result==\"b\":\n",
    "        b += 1\n",
    "    elif result==\"c\":\n",
    "        c += 1\n",
    "    else:\n",
    "        d += 1\n",
    "        \n",
    "print(a, b, c, d)"
   ]
  }
 ],
 "metadata": {
  "kernelspec": {
   "display_name": "Python 3",
   "language": "python",
   "name": "python3"
  },
  "language_info": {
   "codemirror_mode": {
    "name": "ipython",
    "version": 3
   },
   "file_extension": ".py",
   "mimetype": "text/x-python",
   "name": "python",
   "nbconvert_exporter": "python",
   "pygments_lexer": "ipython3",
   "version": "3.7.4"
  }
 },
 "nbformat": 4,
 "nbformat_minor": 4
}
